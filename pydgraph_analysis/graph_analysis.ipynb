{
 "cells": [
  {
   "cell_type": "markdown",
   "metadata": {},
   "source": [
    "## Introduction"
   ]
  },
  {
   "cell_type": "markdown",
   "metadata": {},
   "source": [
    "This notebook analyzes the graph created by \"pydgraph\" script. The \"pydgraph\" script crawls all the packages installed in the current python deployment and then creates a newtork out of the dependencies. Every node is a package name and every edge indicates the dependency. This is directed graph.\n",
    "Using this graph, we try to answer below questions\n",
    "1. What is the degree distribution? What does it indicate? Is this scale free graph?\n",
    "2. Does this network follow Friendship Paradox? How to use it?\n",
    "3. How to identify communities? How to identify packages which are used by multiple communities?\n",
    "4. The change propogation"
   ]
  },
  {
   "cell_type": "code",
   "execution_count": 103,
   "metadata": {
    "collapsed": true
   },
   "outputs": [],
   "source": [
    "import networkx as nx\n",
    "import numpy as np\n",
    "import matplotlib as plt\n",
    "import os\n",
    "import collections\n",
    "import copy"
   ]
  },
  {
   "cell_type": "code",
   "execution_count": 104,
   "metadata": {
    "collapsed": true
   },
   "outputs": [],
   "source": [
    "cwd = os.getcwd()\n",
    "data_folder = cwd + \"/../pydgraph/resources/\"\n",
    "graph_file_name = data_folder + \"pydgraph.gml\"\n",
    "graph_out_file_name = data_folder + \"pydgraph_updated.gexf\""
   ]
  },
  {
   "cell_type": "code",
   "execution_count": 105,
   "metadata": {
    "collapsed": false
   },
   "outputs": [
    {
     "name": "stdout",
     "output_type": "stream",
     "text": [
      "Name: \n",
      "Type: DiGraph\n",
      "Number of nodes: 197\n",
      "Number of edges: 490\n",
      "Average in degree:   2.4873\n",
      "Average out degree:   2.4873\n"
     ]
    }
   ],
   "source": [
    "G = nx.read_gml(graph_file_name)\n",
    "print(nx.info(G))"
   ]
  },
  {
   "cell_type": "markdown",
   "metadata": {},
   "source": [
    "## Indirect Dependency\n",
    "When a module M1 imports another module M2, M1 automatically imports all the parents of M2. If we include such relationship directly in M1, we might get a completely different picture of the graph. \n",
    "\n",
    "Create such graph and analyze its degree distribution. Does it follow power law? "
   ]
  },
  {
   "cell_type": "code",
   "execution_count": 106,
   "metadata": {
    "collapsed": false
   },
   "outputs": [],
   "source": [
    "def add_predecessors(graph, orgnode, currnode, dict_predecessors):\n",
    "    for pnode in graph.predecessors(currnode):\n",
    "        if pnode != node and pnode not in dict_predecessors[orgnode]:\n",
    "            dict_predecessors[orgnode].append(pnode)\n",
    "            add_predecessors(graph, orgnode, currnode, dict_predecessors)\n",
    "            \n",
    "\n",
    "#GNew = G.copy()\n",
    "GNew = copy.deepcopy(G)\n",
    "dict_predecessors = dict()\n",
    "for node in GNew.nodes():\n",
    "    dict_predecessors[node] = list()\n",
    "    for pnode in GNew.predecessors(node):\n",
    "        if pnode != node and pnode not in dict_predecessors[node]:\n",
    "            #dict_predecessors[node].append(pnode)\n",
    "            add_predecessors(GNew, node, pnode, dict_predecessors)\n",
    "\n",
    "for node in dict_predecessors:\n",
    "    for child in dict_predecessors[node]:\n",
    "        GNew.add_edge(node, child)\n"
   ]
  },
  {
   "cell_type": "code",
   "execution_count": 107,
   "metadata": {
    "collapsed": false
   },
   "outputs": [
    {
     "name": "stdout",
     "output_type": "stream",
     "text": [
      "Name: \n",
      "Type: DiGraph\n",
      "Number of nodes: 197\n",
      "Number of edges: 1004\n",
      "Average in degree:   5.0964\n",
      "Average out degree:   5.0964\n"
     ]
    }
   ],
   "source": [
    "print(nx.info(GNew))"
   ]
  },
  {
   "cell_type": "code",
   "execution_count": 108,
   "metadata": {
    "collapsed": false
   },
   "outputs": [
    {
     "name": "stdout",
     "output_type": "stream",
     "text": [
      "Name: \n",
      "Type: DiGraph\n",
      "Number of nodes: 197\n",
      "Number of edges: 490\n",
      "Average in degree:   2.4873\n",
      "Average out degree:   2.4873\n"
     ]
    }
   ],
   "source": [
    "print(nx.info(G))"
   ]
  },
  {
   "cell_type": "markdown",
   "metadata": {},
   "source": [
    "## Analyze degree distribution\n",
    "1. Make a comment whether this is random graph or scale free graph\n",
    "2. Make a comment on degree distribution\n",
    "3. Differentiate in_degree and out_degree"
   ]
  },
  {
   "cell_type": "markdown",
   "metadata": {},
   "source": [
    "### Degee Distribution"
   ]
  },
  {
   "cell_type": "code",
   "execution_count": 109,
   "metadata": {
    "collapsed": false
   },
   "outputs": [],
   "source": [
    "%matplotlib inline\n",
    "import matplotlib.pyplot as plt\n",
    "\n",
    "def degree_distribution(graph):\n",
    "    plt.subplot(3, 2, 1)\n",
    "    cc = list(graph.degree().values())\n",
    "    pdf, bins, patch = plt.hist(cc, bins=30)\n",
    "\n",
    "    plt.subplot(3, 2, 2)\n",
    "    cc = list(graph.in_degree().values())\n",
    "    pdf, bins, patch = plt.hist(cc, bins=30)\n",
    "\n",
    "    plt.subplot(3, 2, 3)\n",
    "    cc = list(graph.out_degree().values())\n",
    "    pdf, bins, patch = plt.hist(cc, bins=30)\n",
    "    \n",
    "import math\n",
    "#This function draws degree distribution histogram and then line chart for same degree distribution but in log scale\n",
    "def draw_degree_distribution(graph):\n",
    "    data = list(dict(nx.degree(graph)).values())\n",
    "    #print(data)\n",
    "    \n",
    "    plt.figure(1)\n",
    "    plt.subplot(1, 2, 1)\n",
    "    h = plt.hist(data, bins=10)\n",
    "    plt.title('Degree Distribution Histogram')\n",
    "\n",
    "    #Now draw log scale \n",
    "    plt.subplot(1, 2, 2)\n",
    "    d = np.array(data)\n",
    "    y,binEdges=np.histogram((d),bins=5)\n",
    "    bincenters = 0.5*(binEdges[1:]+binEdges[:-1])\n",
    "\n",
    "    bincenters_nonzero = []\n",
    "    ylog = []\n",
    "    for i in range(len(y)):\n",
    "        if(y[i] > 0):\n",
    "            bincenters_nonzero.append(math.log(bincenters[i]))\n",
    "            #bincenters_nonzero.append((bincenters[i]))\n",
    "            ylog.append(math.log(y[i]))\n",
    "\n",
    "    plt.plot(bincenters_nonzero,ylog,'-')\n",
    "    plt.title('Degree Distribution Histogram in Log Scale')\n",
    "    plt.tight_layout(pad=0.8, w_pad=5.8, h_pad=1.0)\n",
    "\n",
    "    plt.show()\n"
   ]
  },
  {
   "cell_type": "code",
   "execution_count": 110,
   "metadata": {
    "collapsed": false
   },
   "outputs": [
    {
     "data": {
      "image/png": "[encoded data removed]",
      "text/plain": [
       "<Figure size 432x288 with 2 Axes>"
      ]
     },
     "metadata": {},
     "output_type": "display_data"
    }
   ],
   "source": [
    "draw_degree_distribution(G)"
   ]
  },
  {
   "cell_type": "markdown",
   "metadata": {},
   "source": [
    "<B>Observations:</B>\n",
    "1. The degree distribution neither bionomial nor follows power law. Looks like the graph is random graph.\n",
    "2. The total degree is mostly in the range of 1 to 9. Average degree is 4.32\n",
    "3. The average in_degree and out_degree is same - around 2.16"
   ]
  },
  {
   "cell_type": "code",
   "execution_count": 111,
   "metadata": {
    "collapsed": false
   },
   "outputs": [
    {
     "data": {
      "image/png": "[encoded data removed]",
      "text/plain": [
       "<Figure size 432x288 with 2 Axes>"
      ]
     },
     "metadata": {},
     "output_type": "display_data"
    }
   ],
   "source": [
    "draw_degree_distribution(GNew)"
   ]
  },
  {
   "cell_type": "markdown",
   "metadata": {},
   "source": [
    "<B>Observations: </B> \n",
    "1. The orignial graph (G) does not seem to follow degree distribution pattern of scale free graph. Especially on the log-log scale, it is not a straight line like in scale free graph.\n",
    "2. However, the updated graph (GNew) where indirect dependencies are directly added to each node, the graph looks like scale free graph with power law degree distribution"
   ]
  },
  {
   "cell_type": "markdown",
   "metadata": {},
   "source": [
    "### In and Out Degree\n",
    "The In and Out Degree's and dependencies are better visualized in the new graph as shown below.\n",
    "\n",
    "The graph below shows GNew graph. The nodes size depends on in-degree. This essentially means that nodes (packages) like \"uniq\" or \"zope.publiser\" have larger dependency on other packages."
   ]
  },
  {
   "cell_type": "markdown",
   "metadata": {},
   "source": [
    "<img src=\"GNew-Indegree.png\" alt=\"New Graph - Node size based on In Degree\" />"
   ]
  },
  {
   "cell_type": "markdown",
   "metadata": {},
   "source": [
    "And the graph below shows the node sizes based on out-degree. This essentially means that packages like \"setuptools\", \"six\" and \"zope.interface\" are used by several other packages. "
   ]
  },
  {
   "cell_type": "markdown",
   "metadata": {},
   "source": [
    "<img src=\"GNew-OutDegree.png\" alt=\"New Graph - Node size based on Out Degree\" />"
   ]
  },
  {
   "cell_type": "markdown",
   "metadata": {},
   "source": [
    "## Friendship Paradox\n",
    "\n",
    "Does this network observe friendship paradox? If yes, how we can utilize it?"
   ]
  },
  {
   "cell_type": "code",
   "execution_count": 112,
   "metadata": {
    "collapsed": false
   },
   "outputs": [
    {
     "name": "stdout",
     "output_type": "stream",
     "text": [
      "The fraction of nodes for which friendship paradox holds true is  0.2131979695431472\n"
     ]
    },
    {
     "name": "stderr",
     "output_type": "stream",
     "text": [
      "/Users/Avadhoot/anaconda/lib/python3.6/site-packages/numpy/core/fromnumeric.py:2957: RuntimeWarning: Mean of empty slice.\n",
      "  out=out, **kwargs)\n",
      "/Users/Avadhoot/anaconda/lib/python3.6/site-packages/numpy/core/_methods.py:80: RuntimeWarning: invalid value encountered in double_scalars\n",
      "  ret = ret.dtype.type(ret / rcount)\n"
     ]
    }
   ],
   "source": [
    "def avgNeighborDegree(node, graph):\n",
    "    avg_degree = np.mean([graph.out_degree(node) for node in graph.neighbors(node)])\n",
    "    return avg_degree\n",
    "\n",
    "def computeFriendshipParadoxFraction(graph):\n",
    "    friendship_paradox_holds = [1 if graph.out_degree(node) <  avgNeighborDegree(node, graph) else 0 for node in graph.nodes()]\n",
    "    fraction_success = sum(friendship_paradox_holds)/len(friendship_paradox_holds)\n",
    "    return fraction_success\n",
    "\n",
    "fraction_success = computeFriendshipParadoxFraction(G)\n",
    "print(\"The fraction of nodes for which friendship paradox holds true is \", fraction_success)"
   ]
  },
  {
   "cell_type": "markdown",
   "metadata": {},
   "source": [
    "<B>Observation:</B> The friendship paradox does not hold true for this network."
   ]
  },
  {
   "cell_type": "code",
   "execution_count": 113,
   "metadata": {
    "collapsed": false
   },
   "outputs": [
    {
     "name": "stdout",
     "output_type": "stream",
     "text": [
      "The fraction of nodes for which friendship paradox holds true is  0.8324873096446701\n"
     ]
    },
    {
     "name": "stderr",
     "output_type": "stream",
     "text": [
      "/Users/Avadhoot/anaconda/lib/python3.6/site-packages/numpy/core/fromnumeric.py:2957: RuntimeWarning: Mean of empty slice.\n",
      "  out=out, **kwargs)\n",
      "/Users/Avadhoot/anaconda/lib/python3.6/site-packages/numpy/core/_methods.py:80: RuntimeWarning: invalid value encountered in double_scalars\n",
      "  ret = ret.dtype.type(ret / rcount)\n"
     ]
    }
   ],
   "source": [
    "fraction_success_new = computeFriendshipParadoxFraction(GNew)\n",
    "print(\"The fraction of nodes for which friendship paradox holds true is \", fraction_success_new)"
   ]
  },
  {
   "cell_type": "markdown",
   "metadata": {},
   "source": [
    "<B>Observation:</B> The friendship paradox holds true for this variation of network."
   ]
  },
  {
   "cell_type": "markdown",
   "metadata": {},
   "source": [
    "## Explore Centralities and Communities"
   ]
  },
  {
   "cell_type": "code",
   "execution_count": 114,
   "metadata": {
    "collapsed": true
   },
   "outputs": [],
   "source": [
    "betweenness = nx.betweenness_centrality(G)\n",
    "nx.set_node_attributes(G, \"betweenness\", betweenness)\n",
    "closeness_centrality = nx.closeness_centrality(G)\n",
    "nx.set_node_attributes(G, \"closeness\", closeness_centrality)\n",
    "nx.write_gexf(G, graph_out_file_name)"
   ]
  },
  {
   "cell_type": "markdown",
   "metadata": {},
   "source": [
    "The following visualization uses\n",
    "1. Modularity as node color\n",
    "2. Betweenness centrality as node size\n",
    "This is original graph (G)"
   ]
  },
  {
   "cell_type": "markdown",
   "metadata": {},
   "source": [
    "![title](G-Betweenness-Modularity.png)"
   ]
  },
  {
   "cell_type": "markdown",
   "metadata": {},
   "source": [
    "<B>Observations:</B>\n",
    "1. There are 10 identified communities (used resolution factor of 5). The bigger communities can be easily explained. For example, community around testing packages like pytest, community around notebook packages (notebook, nbconvert, ipykernel), communiy around django and community arond zope. \n",
    "2. This installation has bunch of completely separate packages like 1) pip and pipdeptree 2)flake and 3)networkx and decorator\n",
    "3. The node size indicates betweenness centrality. It looks like pytest is the one which is used mostly across all communities. "
   ]
  },
  {
   "cell_type": "markdown",
   "metadata": {},
   "source": [
    "## Explore Change Propogation\n",
    "A change in base module/package needs to be propogated to all the dependent modules. For example, a change in the package \"uniq\" would mean the package \"uniq.utils\" would also need to be changed. "
   ]
  },
  {
   "cell_type": "markdown",
   "metadata": {},
   "source": [
    "### Impact of Change\n",
    "The the graph GNew can be used to understand the impact of the change. "
   ]
  },
  {
   "cell_type": "code",
   "execution_count": 115,
   "metadata": {
    "collapsed": false
   },
   "outputs": [
    {
     "data": {
      "text/plain": [
       "['requests',\n",
       " 'lxml',\n",
       " 'pyyaml',\n",
       " 'setuptools',\n",
       " 'six',\n",
       " 'more-itertools',\n",
       " 'pytest',\n",
       " 'attrs',\n",
       " 'pluggy',\n",
       " 'py',\n",
       " 'urllib3',\n",
       " 'python-dateutil',\n",
       " 'artifactory',\n",
       " 'pathlib',\n",
       " 'deepdiff',\n",
       " 'flaky',\n",
       " 'ncclient',\n",
       " 'paramiko',\n",
       " 'netaddr',\n",
       " 'pexpect',\n",
       " 'pika',\n",
       " 'psycopg2',\n",
       " 'pytest-cov',\n",
       " 'coverage',\n",
       " 'pytest-mock',\n",
       " 'pytest-xdist',\n",
       " 'execnet',\n",
       " 'pyvmomi',\n",
       " 'requests-toolbelt',\n",
       " 'selenium',\n",
       " 'simplejson',\n",
       " 'twine',\n",
       " 'pkginfo',\n",
       " 'uniq.apis',\n",
       " 'uniq.apps',\n",
       " 'uniq.clis',\n",
       " 'uniq.utils',\n",
       " 'maglev-cli',\n",
       " 'uniq.gv-cli',\n",
       " 'uniq.postgres',\n",
       " 'uniq.testbed',\n",
       " 'wheel']"
      ]
     },
     "execution_count": 115,
     "metadata": {},
     "output_type": "execute_result"
    }
   ],
   "source": [
    "package_under_change = \"uniq\"\n",
    "impacted_packages = nx.neighbors(GNew, package_under_change)\n",
    "impacted_packages"
   ]
  },
  {
   "cell_type": "markdown",
   "metadata": {},
   "source": [
    "### How many ways the change impacts me?"
   ]
  },
  {
   "cell_type": "code",
   "execution_count": 116,
   "metadata": {
    "collapsed": false
   },
   "outputs": [
    {
     "name": "stdout",
     "output_type": "stream",
     "text": [
      "['jinja2', 'nbconvert', 'notebook']\n",
      "['jinja2', 'notebook']\n"
     ]
    }
   ],
   "source": [
    "package_under_change = \"jinja2\"\n",
    "my_package = \"notebook\"\n",
    "paths = nx.all_simple_paths(G, package_under_change, my_package, cutoff=None)\n",
    "\n",
    "for p in paths:\n",
    "    print(p)"
   ]
  },
  {
   "cell_type": "markdown",
   "metadata": {},
   "source": [
    "## Conclusion"
   ]
  },
  {
   "cell_type": "markdown",
   "metadata": {},
   "source": [
    "1. In section 1, we saw that how a variation of the network can be created by directly linking the indirect dependencies\n",
    "2. The 2 variations together can answer quite a few questions\n",
    "3. The section 2 explains how the network is scale free (the second variation). \n",
    "4. The section 3 explains that the second variation of the network is Small World. This is useful to identify hubs (the packages with maximum depdendencies)\n",
    "5. The community detection can be easily achieved using approach in section 4\n",
    "6. In section 6, we explained how the impact of change can be measured and what are the change propogation mechanism"
   ]
  }
 ],
 "metadata": {
  "kernelspec": {
   "display_name": "Python 3",
   "language": "python",
   "name": "python3"
  },
  "language_info": {
   "codemirror_mode": {
    "name": "ipython",
    "version": 3
   },
   "file_extension": ".py",
   "mimetype": "text/x-python",
   "name": "python",
   "nbconvert_exporter": "python",
   "pygments_lexer": "ipython3",
   "version": "3.6.0"
  },
  "toc": {
   "nav_menu": {},
   "number_sections": true,
   "sideBar": true,
   "skip_h1_title": false,
   "toc_cell": false,
   "toc_position": {},
   "toc_section_display": "block",
   "toc_window_display": true
  }
 },
 "nbformat": 4,
 "nbformat_minor": 2
}
