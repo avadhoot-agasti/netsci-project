{
 "cells": [
  {
   "cell_type": "code",
   "execution_count": 2,
   "metadata": {
    "collapsed": true
   },
   "outputs": [],
   "source": [
    "import networkx as nx\n",
    "import numpy as np\n",
    "import matplotlib as plt\n",
    "import os\n",
    "import collections"
   ]
  },
  {
   "cell_type": "code",
   "execution_count": 3,
   "metadata": {
    "collapsed": true
   },
   "outputs": [],
   "source": [
    "cwd = os.getcwd()\n",
    "data_folder = cwd + \"/../pydgraph/app/resources/\"\n",
    "graph_file_name = data_folder + \"pydgraph.gml\"\n",
    "graph_out_file_name = data_folder + \"pydgraph_updated.gexf\""
   ]
  },
  {
   "cell_type": "code",
   "execution_count": 4,
   "metadata": {
    "collapsed": false
   },
   "outputs": [
    {
     "name": "stdout",
     "output_type": "stream",
     "text": [
      "Name: \n",
      "Type: DiGraph\n",
      "Number of nodes: 105\n",
      "Number of edges: 227\n",
      "Average in degree:   2.1619\n",
      "Average out degree:   2.1619\n"
     ]
    }
   ],
   "source": [
    "G = nx.read_gml(graph_file_name)\n",
    "print(nx.info(G))"
   ]
  },
  {
   "cell_type": "markdown",
   "metadata": {},
   "source": [
    "## Indirect Dependency\n",
    "When a module M1 imports another module M2, M1 automatically imports all the parents of M2. If we include such relationship directly in M1, we might get a completely different picture of the graph. \n",
    "\n",
    "Create such graph and analyze its degree distribution. Does it follow power law? "
   ]
  },
  {
   "cell_type": "code",
   "execution_count": 7,
   "metadata": {
    "collapsed": false
   },
   "outputs": [],
   "source": [
    "def add_predecessors(graph, orgnode, currnode, dict_predecessors):\n",
    "    for pnode in graph.predecessors(currnode):\n",
    "        if pnode != node and pnode not in dict_predecessors[orgnode]:\n",
    "            dict_predecessors[orgnode].append(pnode)\n",
    "            add_predecessors(graph, orgnode, currnode, dict_predecessors)\n",
    "            \n",
    "\n",
    "GNew = G.copy()\n",
    "dict_predecessors = dict()\n",
    "for node in GNew.nodes():\n",
    "    dict_predecessors[node] = list()\n",
    "    for pnode in GNew.predecessors(node):\n",
    "        if pnode != node and pnode not in dict_predecessors[node]:\n",
    "            #dict_predecessors[node].append(pnode)\n",
    "            add_predecessors(GNew, node, pnode, dict_predecessors)\n",
    "\n",
    "for node in dict_predecessors:\n",
    "    for child in dict_predecessors[node]:\n",
    "        GNew.add_edge(node, child)\n"
   ]
  },
  {
   "cell_type": "code",
   "execution_count": 10,
   "metadata": {
    "collapsed": false
   },
   "outputs": [
    {
     "name": "stdout",
     "output_type": "stream",
     "text": [
      "Name: \n",
      "Type: DiGraph\n",
      "Number of nodes: 105\n",
      "Number of edges: 486\n",
      "Average in degree:   4.6286\n",
      "Average out degree:   4.6286\n"
     ]
    }
   ],
   "source": [
    "print(nx.info(GNew))"
   ]
  },
  {
   "cell_type": "markdown",
   "metadata": {},
   "source": [
    "## Analyze degree distribution\n",
    "1. Make a comment whether this is random graph or scale free graph\n",
    "2. Make a comment on degree distribution\n",
    "3. Differentiate in_degree and out_degree"
   ]
  },
  {
   "cell_type": "code",
   "execution_count": 18,
   "metadata": {
    "collapsed": false
   },
   "outputs": [],
   "source": [
    "%matplotlib inline\n",
    "import matplotlib.pyplot as plt\n",
    "\n",
    "def degree_distribution(graph):\n",
    "    plt.subplot(3, 2, 1)\n",
    "    cc = list(graph.degree().values())\n",
    "    pdf, bins, patch = plt.hist(cc, bins=30)\n",
    "\n",
    "    plt.subplot(3, 2, 2)\n",
    "    cc = list(graph.in_degree().values())\n",
    "    pdf, bins, patch = plt.hist(cc, bins=30)\n",
    "\n",
    "    plt.subplot(3, 2, 3)\n",
    "    cc = list(graph.out_degree().values())\n",
    "    pdf, bins, patch = plt.hist(cc, bins=30)\n",
    "    \n",
    "import math\n",
    "#This function draws degree distribution histogram and then line chart for same degree distribution but in log scale\n",
    "def draw_degree_distribution(graph):\n",
    "    data = list(dict(nx.degree(graph)).values())\n",
    "    \n",
    "    plt.figure(1)\n",
    "    plt.subplot(1, 2, 1)\n",
    "    h = plt.hist(data, bins=10)\n",
    "    plt.title('Degree Distribution Histogram')\n",
    "\n",
    "    #Now draw log scale \n",
    "    plt.subplot(1, 2, 2)\n",
    "    y,binEdges=np.histogram(data,bins=10)\n",
    "    bincenters = 0.5*(binEdges[1:]+binEdges[:-1])\n",
    "\n",
    "    bincenters_nonzero = []\n",
    "    ylog = []\n",
    "    for i in range(len(y)):\n",
    "        if(y[i] > 0):\n",
    "            bincenters_nonzero.append(math.log(bincenters[i]))\n",
    "            ylog.append(math.log(y[i]))\n",
    "\n",
    "    plt.plot(bincenters_nonzero,ylog,'-')\n",
    "    plt.title('Degree Distribution Histogram in Log Scale')\n",
    "    plt.tight_layout(pad=0.8, w_pad=5.8, h_pad=1.0)\n",
    "\n",
    "    plt.show()\n"
   ]
  },
  {
   "cell_type": "code",
   "execution_count": 19,
   "metadata": {
    "collapsed": false
   },
   "outputs": [
    {
     "data": {
      "image/png": "[encoded data removed]",
      "text/plain": [
       "<Figure size 432x288 with 2 Axes>"
      ]
     },
     "metadata": {},
     "output_type": "display_data"
    }
   ],
   "source": [
    "draw_degree_distribution(G)"
   ]
  },
  {
   "cell_type": "markdown",
   "metadata": {},
   "source": [
    "<B>Observations:</B>\n",
    "1. The degree distribution neither bionomial nor follows power law. Looks like the graph is random graph.\n",
    "2. The total degree is mostly in the range of 1 to 9. Average degree is 4.32\n",
    "3. The average in_degree and out_degree is same - around 2.16"
   ]
  },
  {
   "cell_type": "code",
   "execution_count": 20,
   "metadata": {
    "collapsed": false
   },
   "outputs": [
    {
     "data": {
      "image/png": "[encoded data removed]",
      "text/plain": [
       "<Figure size 432x288 with 2 Axes>"
      ]
     },
     "metadata": {},
     "output_type": "display_data"
    }
   ],
   "source": [
    "draw_degree_distribution(GNew)"
   ]
  },
  {
   "cell_type": "markdown",
   "metadata": {},
   "source": [
    "## Friendship Paradox\n",
    "\n",
    "Does this network observe friendship paradox? If yes, how we can utilize it?"
   ]
  },
  {
   "cell_type": "code",
   "execution_count": 6,
   "metadata": {
    "collapsed": false
   },
   "outputs": [
    {
     "name": "stdout",
     "output_type": "stream",
     "text": [
      "The fraction of nodes for which friendship paradox holds true is  0.09523809523809523\n"
     ]
    },
    {
     "name": "stderr",
     "output_type": "stream",
     "text": [
      "/Users/Avadhoot/anaconda/lib/python3.6/site-packages/numpy/core/fromnumeric.py:2957: RuntimeWarning: Mean of empty slice.\n",
      "  out=out, **kwargs)\n",
      "/Users/Avadhoot/anaconda/lib/python3.6/site-packages/numpy/core/_methods.py:80: RuntimeWarning: invalid value encountered in double_scalars\n",
      "  ret = ret.dtype.type(ret / rcount)\n"
     ]
    }
   ],
   "source": [
    "def avgNeighborDegree(node, graph):\n",
    "    avg_degree = np.mean([graph.out_degree(node) for node in graph.neighbors(node)])\n",
    "    return avg_degree\n",
    "\n",
    "def computeFriendshipParadoxFraction(graph):\n",
    "    friendship_paradox_holds = [1 if graph.out_degree(node) <  avgNeighborDegree(node, graph) else 0 for node in graph.nodes()]\n",
    "    fraction_success = sum(friendship_paradox_holds)/len(friendship_paradox_holds)\n",
    "    return fraction_success\n",
    "\n",
    "fraction_success = computeFriendshipParadoxFraction(G)\n",
    "print(\"The fraction of nodes for which friendship paradox holds true is \", fraction_success)"
   ]
  },
  {
   "cell_type": "markdown",
   "metadata": {},
   "source": [
    "<B>Observation:</B> The friendship paradox does not hold true for this network."
   ]
  },
  {
   "cell_type": "code",
   "execution_count": 14,
   "metadata": {
    "collapsed": false
   },
   "outputs": [
    {
     "name": "stdout",
     "output_type": "stream",
     "text": [
      "The fraction of nodes for which friendship paradox holds true is  0.5904761904761905\n"
     ]
    },
    {
     "name": "stderr",
     "output_type": "stream",
     "text": [
      "/Users/Avadhoot/anaconda/lib/python3.6/site-packages/numpy/core/fromnumeric.py:2957: RuntimeWarning: Mean of empty slice.\n",
      "  out=out, **kwargs)\n",
      "/Users/Avadhoot/anaconda/lib/python3.6/site-packages/numpy/core/_methods.py:80: RuntimeWarning: invalid value encountered in double_scalars\n",
      "  ret = ret.dtype.type(ret / rcount)\n"
     ]
    }
   ],
   "source": [
    "fraction_success_new = computeFriendshipParadoxFraction(GNew)\n",
    "print(\"The fraction of nodes for which friendship paradox holds true is \", fraction_success_new)"
   ]
  },
  {
   "cell_type": "markdown",
   "metadata": {},
   "source": [
    "<B>Observation:</B> The friendship paradox holds true for this variation of network."
   ]
  },
  {
   "cell_type": "markdown",
   "metadata": {},
   "source": [
    "## Explore Centralities and Communities"
   ]
  },
  {
   "cell_type": "code",
   "execution_count": 35,
   "metadata": {
    "collapsed": true
   },
   "outputs": [],
   "source": [
    "betweenness = nx.betweenness_centrality(G)\n",
    "nx.set_node_attributes(G, \"betweenness\", betweenness)\n",
    "closeness_centrality = nx.closeness_centrality(G)\n",
    "nx.set_node_attributes(G, \"closeness\", closeness_centrality)\n",
    "nx.write_gexf(G, graph_out_file_name)"
   ]
  },
  {
   "cell_type": "markdown",
   "metadata": {},
   "source": [
    "## Explore Robustness\n",
    "If there are bugs found in some central module, how it will be propogated? Can this be considered as SI or SIS propogation mechanism? How well this network can handle random failure and targetted failures?"
   ]
  },
  {
   "cell_type": "code",
   "execution_count": null,
   "metadata": {
    "collapsed": true
   },
   "outputs": [],
   "source": []
  }
 ],
 "metadata": {
  "kernelspec": {
   "display_name": "Python 3",
   "language": "python",
   "name": "python3"
  },
  "language_info": {
   "codemirror_mode": {
    "name": "ipython",
    "version": 3
   },
   "file_extension": ".py",
   "mimetype": "text/x-python",
   "name": "python",
   "nbconvert_exporter": "python",
   "pygments_lexer": "ipython3",
   "version": "3.6.0"
  },
  "toc": {
   "nav_menu": {},
   "number_sections": true,
   "sideBar": true,
   "skip_h1_title": false,
   "toc_cell": false,
   "toc_position": {},
   "toc_section_display": "block",
   "toc_window_display": false
  }
 },
 "nbformat": 4,
 "nbformat_minor": 2
}
